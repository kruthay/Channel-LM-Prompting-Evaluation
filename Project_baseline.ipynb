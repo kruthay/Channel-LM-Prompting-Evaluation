{
 "cells": [
  {
   "cell_type": "code",
   "execution_count": 1,
   "id": "64edf751",
   "metadata": {},
   "outputs": [],
   "source": [
    "import pandas as pd\n",
    "from transformers import GPT2Tokenizer, GPT2LMHeadModel\n",
    "import numpy as np\n",
    "import torch\n",
    "from model_util import load_checkpoint, set_extra_embeddings,set_separate_lm_head, set_separate_embeddings, set_transformed_lm_head\n"
   ]
  },
  {
   "cell_type": "code",
   "execution_count": 2,
   "id": "1d9460c4",
   "metadata": {},
   "outputs": [],
   "source": [
    "def load_data(path):\n",
    "    data = []\n",
    "    dataframe = pd.read_csv(path, sep = '\\t')\n",
    "    sentences = dataframe['sentence'].to_list()\n",
    "    labels = dataframe['label'].to_list()\n",
    "    for i,j in zip(sentences, labels):\n",
    "        data.append((i,j))\n",
    "    return data"
   ]
  },
  {
   "cell_type": "code",
   "execution_count": 3,
   "id": "c6d6297f",
   "metadata": {},
   "outputs": [],
   "source": [
    "train_data = load_data('/Users/kruthaydonapati/Downloads/Channel-LM-Prompting-main/data/k-shot/SST-2/16-13/train.tsv')"
   ]
  },
  {
   "cell_type": "code",
   "execution_count": 4,
   "id": "92ca2a5b",
   "metadata": {},
   "outputs": [],
   "source": [
    "test_data = load_data('/Users/kruthaydonapati/Downloads/Channel-LM-Prompting-main/data/k-shot/SST-2/16-13/test.tsv')"
   ]
  },
  {
   "cell_type": "code",
   "execution_count": 5,
   "id": "6cdb2771",
   "metadata": {},
   "outputs": [],
   "source": [
    "def generate_templates():\n",
    "    generic_template = \"A %s one . \"\n",
    "    labels = [ 'terrible' , 'great']\n",
    "    templates = [generic_template % label for label in labels]\n",
    "    return templates"
   ]
  },
  {
   "cell_type": "code",
   "execution_count": 6,
   "id": "2a254c29",
   "metadata": {},
   "outputs": [],
   "source": [
    "templates = generate_templates()"
   ]
  },
  {
   "cell_type": "code",
   "execution_count": 7,
   "id": "a6ad854a",
   "metadata": {},
   "outputs": [],
   "source": [
    "def prepare_data_for_training(train_data, tokenizer, templates, max_length = 128, max_length_per_example = 128):\n",
    "    bos_token_id = tokenizer.bos_token_id\n",
    "    eos_token_id = tokenizer.eos_token_id\n",
    "    \n",
    "    templates = [template.strip() for template in templates]\n",
    "    train_data = [(\" \"+sent, label) for sent, label in train_data]\n",
    "    prefixes_with_space = [tokenizer(\" \"+template)[\"input_ids\"] for template in templates]\n",
    "    train_inputs = [tokenizer(sent)[\"input_ids\"] for sent, _ in train_data]\n",
    "    truncated = np.sum([len(inputs)>max_length_per_example-16 for inputs in train_inputs])\n",
    "    if truncated > 0:\n",
    "        train_inputs = [inputs[:max_length_per_example-16] for inputs in train_inputs]\n",
    "        print (\"%d/%d truncated\" % (truncated, len(train_inputs)))\n",
    "\n",
    "    prefixes = [tokenizer(template)[\"input_ids\"] for template in templates]\n",
    "    idx = [idx for idx, _prefixes in enumerate(zip(*prefixes)) \n",
    "           if not np.all([_prefixes[0]==_prefix for _prefix in _prefixes])][0]\n",
    "    input_ids, attention_mask, token_type_ids = [], [], []\n",
    "    for train_input, dp in zip(train_inputs, train_data):\n",
    "        prefix = prefixes[int(dp[1])]\n",
    "        encoded = prepro_sentence_pair_single(prefix, train_input, max_length, bos_token_id, eos_token_id)\n",
    "        input_ids.append(encoded[0])\n",
    "        attention_mask.append(encoded[1])\n",
    "        token_type_ids.append(encoded[2])\n",
    "\n",
    "    return dict(input_ids=torch.LongTensor(input_ids),\n",
    "                attention_mask=torch.LongTensor(attention_mask),\n",
    "                token_type_ids=torch.LongTensor(token_type_ids))"
   ]
  },
  {
   "cell_type": "code",
   "execution_count": 34,
   "id": "98222c0b",
   "metadata": {},
   "outputs": [],
   "source": [
    "def prepare_data_for_all(train_data, test_data, tokenizer, templates, max_length = 128, max_length_per_example = 128):\n",
    "    bos_token_id = tokenizer.bos_token_id\n",
    "    eos_token_id = tokenizer.eos_token_id\n",
    "    templates = [template.strip() for template in templates]\n",
    "    test_data = [(\" \"+sent, label) for sent, label in test_data]\n",
    "    train_data = [(\" \"+sent, label) for sent, label in train_data]\n",
    "    prefixes_with_space = [tokenizer(\" \"+template)[\"input_ids\"] for template in templates]\n",
    "    test_inputs = [tokenizer(sent)[\"input_ids\"] for sent, _ in test_data]\n",
    "    truncated = np.sum([len(inputs)>max_length_per_example-16 for inputs in test_inputs])\n",
    "    if truncated > 0:\n",
    "        test_inputs = [inputs[:max_length_per_example-16] for inputs in test_inputs]\n",
    "        print (\"%d/%d truncated\" % (truncated, len(test_inputs)))\n",
    "    prefixes = [tokenizer(template)[\"input_ids\"] for template in templates]\n",
    "    idx = [idx for idx, _prefixes in enumerate(zip(*prefixes))\n",
    "           if not np.all([_prefixes[0]==_prefix for _prefix in _prefixes])][0]\n",
    "    '''    for i in range(n_classes):\n",
    "        for j in range(i+1, n_classes):\n",
    "            assert prefixes[i][:idx]==prefixes[j][:idx]\n",
    "            assert prefixes[i][idx]!=prefixes[j][idx] '''\n",
    "    input_tensors = []\n",
    "    for i in range(n_classes):\n",
    "        prefix = prefixes[i].copy()\n",
    "        tensor = prepro_sentence_pair([prefix], test_inputs, max_length,bos_token_id, \n",
    "                                      eos_token_id,allow_truncation=use_demonstrations)\n",
    "    input_tensors.append(tensor)\n",
    "    return input_tensors"
   ]
  },
  {
   "cell_type": "code",
   "execution_count": 8,
   "id": "8f00013c",
   "metadata": {},
   "outputs": [],
   "source": [
    "n_prefix = 20"
   ]
  },
  {
   "cell_type": "code",
   "execution_count": 32,
   "id": "04336685",
   "metadata": {},
   "outputs": [],
   "source": [
    "def prepro_sentence_pair(train_inputs, test_inputs, max_length,\n",
    "                         bos_token_id, eos_token_id,\n",
    "                         allow_truncation=False):\n",
    "    input_ids, attention_mask, token_type_ids = [], [], []\n",
    "    for test_input in test_inputs:\n",
    "        for train_input in train_inputs:\n",
    "            _input_ids, _attention_mask, _token_type_ids = \\\n",
    "                prepro_sentence_pair_single(train_input, test_input, max_length,\n",
    "                                            bos_token_id, eos_token_id,\n",
    "                                            allow_truncation=allow_truncation)\n",
    "            input_ids.append(_input_ids)\n",
    "            attention_mask.append(_attention_mask)\n",
    "            token_type_ids.append(_token_type_ids)\n",
    "\n",
    "    return {\"input_ids\": torch.LongTensor(input_ids),\n",
    "            \"attention_mask\": torch.LongTensor(attention_mask),\n",
    "            \"token_type_ids\": torch.LongTensor(token_type_ids)}\n"
   ]
  },
  {
   "cell_type": "code",
   "execution_count": 12,
   "id": "dc5fac10",
   "metadata": {},
   "outputs": [],
   "source": [
    "def prepro_sentence_pair_single(ids1, ids2, max_length,\n",
    "                                bos_token_id, eos_token_id, negate=False,\n",
    "                                allow_truncation=False):\n",
    "    if bos_token_id is not None:\n",
    "        ids1 = [bos_token_id] + ids1\n",
    "    if eos_token_id is not None:\n",
    "        ids2 = ids2 + [eos_token_id]\n",
    "    if allow_truncation and len(ids1)+len(ids2) > max_length:\n",
    "        ids1 = ids1[len(ids1)+len(ids2)-max_length:] # len = max_length-len(ids2)\n",
    "        assert len(ids1)+len(ids2)==max_length\n",
    "\n",
    "    n_mask = max_length-len(ids1)-len(ids2)\n",
    "    assert n_mask>=0, (max_length, len(ids1), len(ids2))\n",
    "    input_ids = ids1+ids2+[0 for _ in range(n_mask)]\n",
    "    attention_mask = [1 for _ in ids1+ids2] + [0 for _ in range(n_mask)]\n",
    "    if negate:\n",
    "        token_type_ids = [0 for _ in ids1] + [-1 for _ in ids2] + [0 for _ in range(n_mask)]\n",
    "    else:\n",
    "        token_type_ids = [0 for _ in ids1] + [1 for _ in ids2] + [0 for _ in range(n_mask)]\n",
    "    return input_ids, attention_mask, token_type_ids"
   ]
  },
  {
   "cell_type": "code",
   "execution_count": 35,
   "id": "b3bf9fcf",
   "metadata": {},
   "outputs": [],
   "source": [
    "def run(train_data, test_data, templates):\n",
    "    tokenizer = GPT2Tokenizer.from_pretrained('gpt2')\n",
    "    inputs = prepare_data_for_training(train_data, tokenizer, templates)\n",
    "    model = GPT2LMHeadModel.from_pretrained('gpt2')\n",
    "    for param in model.parameters():\n",
    "        param.requires_grad = False\n",
    "    #set_extra_embeddings(model, n_prefix)\n",
    "    #inputs = prepend_task_tokens(tokenizer, inputs, n_prefix)\n",
    "    model = model.cuda()\n",
    "    if torch.cuda.device_count() > 1:\n",
    "        model = torch.nn.DataParallel(model)\n",
    "    train(inputs)\n",
    "    input_tensors = prepare_data_for_all(train_data, test_data, tokenizer, templates, max_length = 128, max_length_per_example = 128)\n",
    "    \n",
    "    input_tensors = prepend_task_tokens(tokenizer, input_tensors, n_prefix)\n",
    "    "
   ]
  },
  {
   "cell_type": "code",
   "execution_count": 36,
   "id": "04cd1b58",
   "metadata": {},
   "outputs": [],
   "source": [
    "def train(model, inputs, batch_size,learning_rate=1e-5, warmup_steps=50, num_training_steps=200,\n",
    "          gradient_accumulation_steps=1, max_grad_norm=1.0, eval_period=20):\n",
    "    optimizer, scheduler = get_optimizer_and_scheduler(\"adamw\", model, learning_rate=learning_rate, \n",
    "                                                       warmup_steps=warmup_steps, \n",
    "                                                       num_training_steps=num_training_steps)\n",
    "    \n",
    "    dataloader = get_dataloader(inputs, batch_size, is_training=True)\n",
    "    n_trainable_params = len([param for param in model.parameters() if param.requires_grad])\n",
    "    n_gpus = torch.cuda.device_count()\n",
    "    model.train()\n",
    "    global_step = 0\n",
    "    train_losses = []\n",
    "    best_accuracy = -1\n",
    "    stop_training=False\n",
    "    for epoch in range(num_training_steps):\n",
    "        for batch in dataloader:\n",
    "            global_step += 1\n",
    "\n",
    "            input_ids=batch[0].cuda()\n",
    "            attention_mask=batch[1].cuda()\n",
    "            token_type_ids=batch[2].cuda()\n",
    "            \n",
    "            if len(batch)==3:\n",
    "                labels=None\n",
    "            else:\n",
    "                labels=batch[3].cuda()\n",
    "\n",
    "            loss = run_model(model, input_ids, attention_mask, token_type_ids, labels=labels)\n",
    "            loss = loss.mean()\n",
    "            \n",
    "            if torch.isnan(loss).data:\n",
    "                print (\"Stop training because loss=%s\" % (loss.data))\n",
    "                stop_training=True\n",
    "                break\n",
    "\n",
    "            train_losses.append(loss.detach().cpu())\n",
    "            \n",
    "            loss.backward()\n",
    "            \n",
    "            if global_step % gradient_accumulation_steps == 0:\n",
    "                torch.nn.utils.clip_grad_norm_(model.parameters(), max_grad_norm)\n",
    "                optimizer.step()    # We have accumulated enought gradients\n",
    "                model.zero_grad()\n",
    "                if scheduler is not None:\n",
    "                    scheduler.step()\n",
    "            \n",
    "            if global_step % eval_period == 0:\n",
    "                keys = [\"transformer.wte.new_embed.weight\"]\n",
    "                model_state_dict = {key: model.state_dict()[key if n_gpus==1 else \"module.\"+key].cpu() for key in keys}\n",
    "                \n",
    "                torch.save(model_state_dict,\n",
    "                           os.path.join(output_dir, \"model-{}.pt\".format(global_step)))\n",
    "\n",
    "                train_losses = []\n",
    "            if global_step==num_training_steps:\n",
    "                break\n",
    "        if global_step==num_training_steps:\n",
    "            break"
   ]
  },
  {
   "cell_type": "code",
   "execution_count": 37,
   "id": "d10a0249",
   "metadata": {},
   "outputs": [],
   "source": [
    "def prepend_task_tokens(tokenizer, inputs, n_prefix):\n",
    "    task_tokens = [\"<TASK{}>\".format(str(i).zfill(2)) for i in range(n_prefix)]\n",
    "    tokenizer.add_tokens(task_tokens)\n",
    "    task_token_ids = tokenizer(\" \".join(task_tokens), return_tensors=\"pt\")[\"input_ids\"]\n",
    "    assert task_token_ids.shape[-1]==n_prefix\n",
    "\n",
    "    def convert(inputs):\n",
    "        n_train = inputs[\"input_ids\"].shape[0]\n",
    "\n",
    "        new_input_ids=torch.cat([\n",
    "                task_token_ids.repeat(n_train, 1),\n",
    "                inputs[\"input_ids\"][:,1:]], 1)\n",
    "\n",
    "        inputs = dict(\n",
    "            input_ids=new_input_ids,\n",
    "            attention_mask=torch.cat([\n",
    "                torch.ones((n_train, n_prefix-1), dtype=torch.long),\n",
    "                inputs[\"attention_mask\"]], 1),\n",
    "            token_type_ids=torch.cat([\n",
    "                torch.zeros((n_train, n_prefix-1), dtype=torch.long),\n",
    "                inputs[\"token_type_ids\"]], 1),\n",
    "            labels=torch.cat([\n",
    "                torch.zeros((n_train, n_prefix-1), dtype=torch.long),\n",
    "                inputs[\"input_ids\"]], 1))\n",
    "        return inputs\n",
    "\n",
    "    if type(inputs)==list:\n",
    "        return [convert(_inputs) for _inputs in inputs]\n",
    "\n",
    "    return convert(inputs)"
   ]
  },
  {
   "cell_type": "code",
   "execution_count": 39,
   "id": "fc8a36f0",
   "metadata": {},
   "outputs": [
    {
     "ename": "AssertionError",
     "evalue": "Torch not compiled with CUDA enabled",
     "output_type": "error",
     "traceback": [
      "\u001b[0;31m---------------------------------------------------------------------------\u001b[0m",
      "\u001b[0;31mAssertionError\u001b[0m                            Traceback (most recent call last)",
      "\u001b[0;32m/var/folders/tt/mj79j1h50rz7ff5gs2htksmc0000gn/T/ipykernel_25059/3917054832.py\u001b[0m in \u001b[0;36m<module>\u001b[0;34m\u001b[0m\n\u001b[0;32m----> 1\u001b[0;31m \u001b[0mrun\u001b[0m\u001b[0;34m(\u001b[0m\u001b[0mtrain_data\u001b[0m\u001b[0;34m,\u001b[0m \u001b[0mtest_data\u001b[0m\u001b[0;34m,\u001b[0m \u001b[0mtemplates\u001b[0m\u001b[0;34m)\u001b[0m\u001b[0;34m\u001b[0m\u001b[0;34m\u001b[0m\u001b[0m\n\u001b[0m",
      "\u001b[0;32m/var/folders/tt/mj79j1h50rz7ff5gs2htksmc0000gn/T/ipykernel_25059/2347385374.py\u001b[0m in \u001b[0;36mrun\u001b[0;34m(train_data, test_data, templates)\u001b[0m\n\u001b[1;32m      7\u001b[0m     \u001b[0;31m#set_extra_embeddings(model, n_prefix)\u001b[0m\u001b[0;34m\u001b[0m\u001b[0;34m\u001b[0m\u001b[0m\n\u001b[1;32m      8\u001b[0m     \u001b[0;31m#inputs = prepend_task_tokens(tokenizer, inputs, n_prefix)\u001b[0m\u001b[0;34m\u001b[0m\u001b[0;34m\u001b[0m\u001b[0m\n\u001b[0;32m----> 9\u001b[0;31m     \u001b[0mmodel\u001b[0m \u001b[0;34m=\u001b[0m \u001b[0mmodel\u001b[0m\u001b[0;34m.\u001b[0m\u001b[0mcuda\u001b[0m\u001b[0;34m(\u001b[0m\u001b[0;34m)\u001b[0m\u001b[0;34m\u001b[0m\u001b[0;34m\u001b[0m\u001b[0m\n\u001b[0m\u001b[1;32m     10\u001b[0m     \u001b[0;32mif\u001b[0m \u001b[0mtorch\u001b[0m\u001b[0;34m.\u001b[0m\u001b[0mcuda\u001b[0m\u001b[0;34m.\u001b[0m\u001b[0mdevice_count\u001b[0m\u001b[0;34m(\u001b[0m\u001b[0;34m)\u001b[0m \u001b[0;34m>\u001b[0m \u001b[0;36m1\u001b[0m\u001b[0;34m:\u001b[0m\u001b[0;34m\u001b[0m\u001b[0;34m\u001b[0m\u001b[0m\n\u001b[1;32m     11\u001b[0m         \u001b[0mmodel\u001b[0m \u001b[0;34m=\u001b[0m \u001b[0mtorch\u001b[0m\u001b[0;34m.\u001b[0m\u001b[0mnn\u001b[0m\u001b[0;34m.\u001b[0m\u001b[0mDataParallel\u001b[0m\u001b[0;34m(\u001b[0m\u001b[0mmodel\u001b[0m\u001b[0;34m)\u001b[0m\u001b[0;34m\u001b[0m\u001b[0;34m\u001b[0m\u001b[0m\n",
      "\u001b[0;32m/opt/anaconda3/lib/python3.9/site-packages/torch/nn/modules/module.py\u001b[0m in \u001b[0;36mcuda\u001b[0;34m(self, device)\u001b[0m\n\u001b[1;32m    687\u001b[0m             \u001b[0mModule\u001b[0m\u001b[0;34m:\u001b[0m \u001b[0mself\u001b[0m\u001b[0;34m\u001b[0m\u001b[0;34m\u001b[0m\u001b[0m\n\u001b[1;32m    688\u001b[0m         \"\"\"\n\u001b[0;32m--> 689\u001b[0;31m         \u001b[0;32mreturn\u001b[0m \u001b[0mself\u001b[0m\u001b[0;34m.\u001b[0m\u001b[0m_apply\u001b[0m\u001b[0;34m(\u001b[0m\u001b[0;32mlambda\u001b[0m \u001b[0mt\u001b[0m\u001b[0;34m:\u001b[0m \u001b[0mt\u001b[0m\u001b[0;34m.\u001b[0m\u001b[0mcuda\u001b[0m\u001b[0;34m(\u001b[0m\u001b[0mdevice\u001b[0m\u001b[0;34m)\u001b[0m\u001b[0;34m)\u001b[0m\u001b[0;34m\u001b[0m\u001b[0;34m\u001b[0m\u001b[0m\n\u001b[0m\u001b[1;32m    690\u001b[0m \u001b[0;34m\u001b[0m\u001b[0m\n\u001b[1;32m    691\u001b[0m     \u001b[0;32mdef\u001b[0m \u001b[0mipu\u001b[0m\u001b[0;34m(\u001b[0m\u001b[0mself\u001b[0m\u001b[0;34m:\u001b[0m \u001b[0mT\u001b[0m\u001b[0;34m,\u001b[0m \u001b[0mdevice\u001b[0m\u001b[0;34m:\u001b[0m \u001b[0mOptional\u001b[0m\u001b[0;34m[\u001b[0m\u001b[0mUnion\u001b[0m\u001b[0;34m[\u001b[0m\u001b[0mint\u001b[0m\u001b[0;34m,\u001b[0m \u001b[0mdevice\u001b[0m\u001b[0;34m]\u001b[0m\u001b[0;34m]\u001b[0m \u001b[0;34m=\u001b[0m \u001b[0;32mNone\u001b[0m\u001b[0;34m)\u001b[0m \u001b[0;34m->\u001b[0m \u001b[0mT\u001b[0m\u001b[0;34m:\u001b[0m\u001b[0;34m\u001b[0m\u001b[0;34m\u001b[0m\u001b[0m\n",
      "\u001b[0;32m/opt/anaconda3/lib/python3.9/site-packages/torch/nn/modules/module.py\u001b[0m in \u001b[0;36m_apply\u001b[0;34m(self, fn)\u001b[0m\n\u001b[1;32m    577\u001b[0m     \u001b[0;32mdef\u001b[0m \u001b[0m_apply\u001b[0m\u001b[0;34m(\u001b[0m\u001b[0mself\u001b[0m\u001b[0;34m,\u001b[0m \u001b[0mfn\u001b[0m\u001b[0;34m)\u001b[0m\u001b[0;34m:\u001b[0m\u001b[0;34m\u001b[0m\u001b[0;34m\u001b[0m\u001b[0m\n\u001b[1;32m    578\u001b[0m         \u001b[0;32mfor\u001b[0m \u001b[0mmodule\u001b[0m \u001b[0;32min\u001b[0m \u001b[0mself\u001b[0m\u001b[0;34m.\u001b[0m\u001b[0mchildren\u001b[0m\u001b[0;34m(\u001b[0m\u001b[0;34m)\u001b[0m\u001b[0;34m:\u001b[0m\u001b[0;34m\u001b[0m\u001b[0;34m\u001b[0m\u001b[0m\n\u001b[0;32m--> 579\u001b[0;31m             \u001b[0mmodule\u001b[0m\u001b[0;34m.\u001b[0m\u001b[0m_apply\u001b[0m\u001b[0;34m(\u001b[0m\u001b[0mfn\u001b[0m\u001b[0;34m)\u001b[0m\u001b[0;34m\u001b[0m\u001b[0;34m\u001b[0m\u001b[0m\n\u001b[0m\u001b[1;32m    580\u001b[0m \u001b[0;34m\u001b[0m\u001b[0m\n\u001b[1;32m    581\u001b[0m         \u001b[0;32mdef\u001b[0m \u001b[0mcompute_should_use_set_data\u001b[0m\u001b[0;34m(\u001b[0m\u001b[0mtensor\u001b[0m\u001b[0;34m,\u001b[0m \u001b[0mtensor_applied\u001b[0m\u001b[0;34m)\u001b[0m\u001b[0;34m:\u001b[0m\u001b[0;34m\u001b[0m\u001b[0;34m\u001b[0m\u001b[0m\n",
      "\u001b[0;32m/opt/anaconda3/lib/python3.9/site-packages/torch/nn/modules/module.py\u001b[0m in \u001b[0;36m_apply\u001b[0;34m(self, fn)\u001b[0m\n\u001b[1;32m    577\u001b[0m     \u001b[0;32mdef\u001b[0m \u001b[0m_apply\u001b[0m\u001b[0;34m(\u001b[0m\u001b[0mself\u001b[0m\u001b[0;34m,\u001b[0m \u001b[0mfn\u001b[0m\u001b[0;34m)\u001b[0m\u001b[0;34m:\u001b[0m\u001b[0;34m\u001b[0m\u001b[0;34m\u001b[0m\u001b[0m\n\u001b[1;32m    578\u001b[0m         \u001b[0;32mfor\u001b[0m \u001b[0mmodule\u001b[0m \u001b[0;32min\u001b[0m \u001b[0mself\u001b[0m\u001b[0;34m.\u001b[0m\u001b[0mchildren\u001b[0m\u001b[0;34m(\u001b[0m\u001b[0;34m)\u001b[0m\u001b[0;34m:\u001b[0m\u001b[0;34m\u001b[0m\u001b[0;34m\u001b[0m\u001b[0m\n\u001b[0;32m--> 579\u001b[0;31m             \u001b[0mmodule\u001b[0m\u001b[0;34m.\u001b[0m\u001b[0m_apply\u001b[0m\u001b[0;34m(\u001b[0m\u001b[0mfn\u001b[0m\u001b[0;34m)\u001b[0m\u001b[0;34m\u001b[0m\u001b[0;34m\u001b[0m\u001b[0m\n\u001b[0m\u001b[1;32m    580\u001b[0m \u001b[0;34m\u001b[0m\u001b[0m\n\u001b[1;32m    581\u001b[0m         \u001b[0;32mdef\u001b[0m \u001b[0mcompute_should_use_set_data\u001b[0m\u001b[0;34m(\u001b[0m\u001b[0mtensor\u001b[0m\u001b[0;34m,\u001b[0m \u001b[0mtensor_applied\u001b[0m\u001b[0;34m)\u001b[0m\u001b[0;34m:\u001b[0m\u001b[0;34m\u001b[0m\u001b[0;34m\u001b[0m\u001b[0m\n",
      "\u001b[0;32m/opt/anaconda3/lib/python3.9/site-packages/torch/nn/modules/module.py\u001b[0m in \u001b[0;36m_apply\u001b[0;34m(self, fn)\u001b[0m\n\u001b[1;32m    600\u001b[0m             \u001b[0;31m# `with torch.no_grad():`\u001b[0m\u001b[0;34m\u001b[0m\u001b[0;34m\u001b[0m\u001b[0m\n\u001b[1;32m    601\u001b[0m             \u001b[0;32mwith\u001b[0m \u001b[0mtorch\u001b[0m\u001b[0;34m.\u001b[0m\u001b[0mno_grad\u001b[0m\u001b[0;34m(\u001b[0m\u001b[0;34m)\u001b[0m\u001b[0;34m:\u001b[0m\u001b[0;34m\u001b[0m\u001b[0;34m\u001b[0m\u001b[0m\n\u001b[0;32m--> 602\u001b[0;31m                 \u001b[0mparam_applied\u001b[0m \u001b[0;34m=\u001b[0m \u001b[0mfn\u001b[0m\u001b[0;34m(\u001b[0m\u001b[0mparam\u001b[0m\u001b[0;34m)\u001b[0m\u001b[0;34m\u001b[0m\u001b[0;34m\u001b[0m\u001b[0m\n\u001b[0m\u001b[1;32m    603\u001b[0m             \u001b[0mshould_use_set_data\u001b[0m \u001b[0;34m=\u001b[0m \u001b[0mcompute_should_use_set_data\u001b[0m\u001b[0;34m(\u001b[0m\u001b[0mparam\u001b[0m\u001b[0;34m,\u001b[0m \u001b[0mparam_applied\u001b[0m\u001b[0;34m)\u001b[0m\u001b[0;34m\u001b[0m\u001b[0;34m\u001b[0m\u001b[0m\n\u001b[1;32m    604\u001b[0m             \u001b[0;32mif\u001b[0m \u001b[0mshould_use_set_data\u001b[0m\u001b[0;34m:\u001b[0m\u001b[0;34m\u001b[0m\u001b[0;34m\u001b[0m\u001b[0m\n",
      "\u001b[0;32m/opt/anaconda3/lib/python3.9/site-packages/torch/nn/modules/module.py\u001b[0m in \u001b[0;36m<lambda>\u001b[0;34m(t)\u001b[0m\n\u001b[1;32m    687\u001b[0m             \u001b[0mModule\u001b[0m\u001b[0;34m:\u001b[0m \u001b[0mself\u001b[0m\u001b[0;34m\u001b[0m\u001b[0;34m\u001b[0m\u001b[0m\n\u001b[1;32m    688\u001b[0m         \"\"\"\n\u001b[0;32m--> 689\u001b[0;31m         \u001b[0;32mreturn\u001b[0m \u001b[0mself\u001b[0m\u001b[0;34m.\u001b[0m\u001b[0m_apply\u001b[0m\u001b[0;34m(\u001b[0m\u001b[0;32mlambda\u001b[0m \u001b[0mt\u001b[0m\u001b[0;34m:\u001b[0m \u001b[0mt\u001b[0m\u001b[0;34m.\u001b[0m\u001b[0mcuda\u001b[0m\u001b[0;34m(\u001b[0m\u001b[0mdevice\u001b[0m\u001b[0;34m)\u001b[0m\u001b[0;34m)\u001b[0m\u001b[0;34m\u001b[0m\u001b[0;34m\u001b[0m\u001b[0m\n\u001b[0m\u001b[1;32m    690\u001b[0m \u001b[0;34m\u001b[0m\u001b[0m\n\u001b[1;32m    691\u001b[0m     \u001b[0;32mdef\u001b[0m \u001b[0mipu\u001b[0m\u001b[0;34m(\u001b[0m\u001b[0mself\u001b[0m\u001b[0;34m:\u001b[0m \u001b[0mT\u001b[0m\u001b[0;34m,\u001b[0m \u001b[0mdevice\u001b[0m\u001b[0;34m:\u001b[0m \u001b[0mOptional\u001b[0m\u001b[0;34m[\u001b[0m\u001b[0mUnion\u001b[0m\u001b[0;34m[\u001b[0m\u001b[0mint\u001b[0m\u001b[0;34m,\u001b[0m \u001b[0mdevice\u001b[0m\u001b[0;34m]\u001b[0m\u001b[0;34m]\u001b[0m \u001b[0;34m=\u001b[0m \u001b[0;32mNone\u001b[0m\u001b[0;34m)\u001b[0m \u001b[0;34m->\u001b[0m \u001b[0mT\u001b[0m\u001b[0;34m:\u001b[0m\u001b[0;34m\u001b[0m\u001b[0;34m\u001b[0m\u001b[0m\n",
      "\u001b[0;32m/opt/anaconda3/lib/python3.9/site-packages/torch/cuda/__init__.py\u001b[0m in \u001b[0;36m_lazy_init\u001b[0;34m()\u001b[0m\n\u001b[1;32m    209\u001b[0m                 \"multiprocessing, you must use the 'spawn' start method\")\n\u001b[1;32m    210\u001b[0m         \u001b[0;32mif\u001b[0m \u001b[0;32mnot\u001b[0m \u001b[0mhasattr\u001b[0m\u001b[0;34m(\u001b[0m\u001b[0mtorch\u001b[0m\u001b[0;34m.\u001b[0m\u001b[0m_C\u001b[0m\u001b[0;34m,\u001b[0m \u001b[0;34m'_cuda_getDeviceCount'\u001b[0m\u001b[0;34m)\u001b[0m\u001b[0;34m:\u001b[0m\u001b[0;34m\u001b[0m\u001b[0;34m\u001b[0m\u001b[0m\n\u001b[0;32m--> 211\u001b[0;31m             \u001b[0;32mraise\u001b[0m \u001b[0mAssertionError\u001b[0m\u001b[0;34m(\u001b[0m\u001b[0;34m\"Torch not compiled with CUDA enabled\"\u001b[0m\u001b[0;34m)\u001b[0m\u001b[0;34m\u001b[0m\u001b[0;34m\u001b[0m\u001b[0m\n\u001b[0m\u001b[1;32m    212\u001b[0m         \u001b[0;32mif\u001b[0m \u001b[0m_cudart\u001b[0m \u001b[0;32mis\u001b[0m \u001b[0;32mNone\u001b[0m\u001b[0;34m:\u001b[0m\u001b[0;34m\u001b[0m\u001b[0;34m\u001b[0m\u001b[0m\n\u001b[1;32m    213\u001b[0m             raise AssertionError(\n",
      "\u001b[0;31mAssertionError\u001b[0m: Torch not compiled with CUDA enabled"
     ]
    }
   ],
   "source": [
    "run(train_data, test_data, templates)"
   ]
  },
  {
   "cell_type": "code",
   "execution_count": null,
   "id": "44539124",
   "metadata": {},
   "outputs": [],
   "source": []
  }
 ],
 "metadata": {
  "kernelspec": {
   "display_name": "Python 3 (ipykernel)",
   "language": "python",
   "name": "python3"
  },
  "language_info": {
   "codemirror_mode": {
    "name": "ipython",
    "version": 3
   },
   "file_extension": ".py",
   "mimetype": "text/x-python",
   "name": "python",
   "nbconvert_exporter": "python",
   "pygments_lexer": "ipython3",
   "version": "3.9.13"
  }
 },
 "nbformat": 4,
 "nbformat_minor": 5
}
